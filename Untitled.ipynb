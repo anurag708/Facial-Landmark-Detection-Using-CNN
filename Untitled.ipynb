{
 "cells": [
  {
   "cell_type": "code",
   "execution_count": 1,
   "metadata": {},
   "outputs": [
    {
     "name": "stderr",
     "output_type": "stream",
     "text": [
      "Using TensorFlow backend.\n"
     ]
    }
   ],
   "source": [
    "from keras.models import Sequential\n",
    "from keras.layers import Dense\n",
    "from keras.layers import Dropout\n",
    "from keras.layers import Conv2D\n",
    "from keras.layers import MaxPooling2D\n",
    "from keras.layers import Flatten\n",
    "from keras.models import load_model\n",
    "from keras.models import save_model\n",
    "from cv2 import imread\n",
    "from matplotlib import pyplot as plt\n",
    "%matplotlib inline\n",
    "import pickle\n",
    "import numpy as np"
   ]
  },
  {
   "cell_type": "code",
   "execution_count": 2,
   "metadata": {
    "collapsed": true
   },
   "outputs": [],
   "source": [
    "def test(X_test, y_test):\n",
    "    try:\n",
    "        model = load_model('landmark.h5')\n",
    "        pred = model.predict(X_test, batch_size=100,)\n",
    "        return pred\n",
    "    except:\n",
    "        print('Not trained')"
   ]
  },
  {
   "cell_type": "code",
   "execution_count": 3,
   "metadata": {
    "collapsed": true
   },
   "outputs": [],
   "source": [
    "def make_data():\n",
    "    X_train=[]\n",
    "    y_train=[]\n",
    "    X_test=[]\n",
    "    y_test=[]\n",
    "    file=open('new_training.txt','r')\n",
    "    for line in file:\n",
    "        line=line.strip()\n",
    "        a=line.split()\n",
    "        path=a[0]\n",
    "        image=imread(path)\n",
    "        X_train.append(image)\n",
    "        y_train.append(list(map(float,a[1:11])))\n",
    "    file.close()\n",
    "    file=open('new_testing.txt','r')\n",
    "    for line in file:\n",
    "        line=line.strip()\n",
    "        a=line.split()\n",
    "        path=a[0]\n",
    "        image=imread(path)\n",
    "        X_test.append(image)\n",
    "        y_test.append(list(map(float,a[1:11])))\n",
    "    file.close()\n",
    "    return np.asarray(X_train),np.asarray(y_train),np.asarray(X_test),np.asarray(y_test)"
   ]
  },
  {
   "cell_type": "code",
   "execution_count": 11,
   "metadata": {},
   "outputs": [
    {
     "name": "stdout",
     "output_type": "stream",
     "text": [
      "10000/10000 [==============================] - 35s 4ms/step\n",
      "23.4989773273\n"
     ]
    },
    {
     "data": {
      "text/plain": [
       "(10000, 10)"
      ]
     },
     "execution_count": 11,
     "metadata": {},
     "output_type": "execute_result"
    }
   ],
   "source": [
    "X_train,y_train,X_test,y_test=make_data()\n",
    "pred=test(X_train,y_train)\n",
    "pred.shape"
   ]
  },
  {
   "cell_type": "code",
   "execution_count": 7,
   "metadata": {},
   "outputs": [],
   "source": [
    "np.save('output',pred)"
   ]
  },
  {
   "cell_type": "code",
   "execution_count": 14,
   "metadata": {},
   "outputs": [
    {
     "name": "stdout",
     "output_type": "stream",
     "text": [
      "[ 33.96675873  46.24800491  41.013237    32.64476776  43.45013428\n",
      "  35.54395294  40.53317261  46.41870499  51.60638809  54.22974014]\n"
     ]
    }
   ],
   "source": [
    "print(pred[0])"
   ]
  },
  {
   "cell_type": "code",
   "execution_count": 15,
   "metadata": {},
   "outputs": [
    {
     "name": "stdout",
     "output_type": "stream",
     "text": [
      "[ 34.32  47.28  40.4   34.    45.04  34.8   36.24  46.    50.8   52.08]\n"
     ]
    }
   ],
   "source": [
    "print(y_train[0])"
   ]
  },
  {
   "cell_type": "code",
   "execution_count": null,
   "metadata": {
    "collapsed": true
   },
   "outputs": [],
   "source": []
  }
 ],
 "metadata": {
  "kernelspec": {
   "display_name": "Python 3",
   "language": "python",
   "name": "python3"
  },
  "language_info": {
   "codemirror_mode": {
    "name": "ipython",
    "version": 3
   },
   "file_extension": ".py",
   "mimetype": "text/x-python",
   "name": "python",
   "nbconvert_exporter": "python",
   "pygments_lexer": "ipython3",
   "version": "3.6.1"
  }
 },
 "nbformat": 4,
 "nbformat_minor": 2
}
