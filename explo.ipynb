{
 "cells": [
  {
   "cell_type": "code",
   "execution_count": 7,
   "metadata": {},
   "outputs": [],
   "source": [
    "from keras.models import Sequential\n",
    "from keras.layers import Dense\n",
    "from keras.layers import Dropout\n",
    "from keras.layers import Conv2D\n",
    "from keras.layers import MaxPooling2D\n",
    "from keras.layers import Flatten\n",
    "from keras.models import load_model\n",
    "from keras.models import save_model\n",
    "from cv2 import imread\n",
    "from matplotlib import pyplot as plt\n",
    "%matplotlib inline\n",
    "import pickle\n",
    "import numpy as np"
   ]
  },
  {
   "cell_type": "code",
   "execution_count": 8,
   "metadata": {
    "collapsed": true
   },
   "outputs": [],
   "source": [
    "def create_Model():\n",
    "    model = Sequential()\n",
    "    model.add(Conv2D(16,(5,5),padding='same',activation='tanh',input_shape=(80,80,3)))\n",
    "    model.add(MaxPooling2D(pool_size=(2,2)))\n",
    "    model.add(Dropout(0.2))\n",
    "    model.add(Conv2D(48,(3,3),activation='tanh',padding='same'))\n",
    "    model.add(MaxPooling2D(pool_size=(2,2)))\n",
    "    model.add(Dropout(0.2))\n",
    "    model.add(Conv2D(64,(3,3),activation='tanh',padding='same'))\n",
    "    model.add(MaxPooling2D(pool_size=(2,2)))\n",
    "    model.add(Dropout(0.2))\n",
    "    model.add(Conv2D(64,(2,2),activation='tanh',padding='same'))\n",
    "    model.add(Flatten())\n",
    "    model.add(Dense(100))\n",
    "    model.add(Dense(10,activation='linear'))\n",
    "    model.compile(loss='mean_squared_error' ,optimizer='adam')\n",
    "    return model"
   ]
  },
  {
   "cell_type": "code",
   "execution_count": 9,
   "metadata": {
    "collapsed": true
   },
   "outputs": [],
   "source": [
    "def train(X_train, y_train):\n",
    "    model = create_Model()\n",
    "    model.fit(X_train,y_train,epochs=20,batch_size=128)\n",
    "    model.save('landmark.h5')"
   ]
  },
  {
   "cell_type": "code",
   "execution_count": 10,
   "metadata": {
    "collapsed": true
   },
   "outputs": [],
   "source": [
    "def test(X_test, y_test):\n",
    "    try:\n",
    "        model = load_model('landmark.h5')\n",
    "        pred = model.predict(X_test, batch_size=100,)\n",
    "        print(model.evaluate(X_test, y_test, batch_size=100))\n",
    "        return pred\n",
    "    except:\n",
    "        print('Not trained')"
   ]
  },
  {
   "cell_type": "code",
   "execution_count": 11,
   "metadata": {
    "collapsed": true
   },
   "outputs": [],
   "source": [
    "def make_data():\n",
    "    X_train=[]\n",
    "    y_train=[]\n",
    "    X_test=[]\n",
    "    y_test=[]\n",
    "    file=open('new_training.txt','r')\n",
    "    for line in file:\n",
    "        line=line.strip()\n",
    "        a=line.split()\n",
    "        path=a[0]\n",
    "        image=imread(path)\n",
    "        X_train.append(image)\n",
    "        y_train.append(list(map(float,a[1:11])))\n",
    "    file.close()\n",
    "    file=open('new_testing.txt','r')\n",
    "    for line in file:\n",
    "        line=line.strip()\n",
    "        a=line.split()\n",
    "        path=a[0]\n",
    "        image=imread(path)\n",
    "        X_test.append(image)\n",
    "        y_test.append(list(map(float,a[1:11])))\n",
    "    file.close()\n",
    "    return np.asarray(X_train),np.asarray(y_train),np.asarray(X_test),np.asarray(y_test)"
   ]
  },
  {
   "cell_type": "code",
   "execution_count": 12,
   "metadata": {},
   "outputs": [
    {
     "name": "stdout",
     "output_type": "stream",
     "text": [
      "(10000, 80, 80, 3)\n",
      "[ 34.32  47.28  40.4   34.    45.04  34.8   36.24  46.    50.8   52.08]\n",
      "Epoch 1/20\n",
      "10000/10000 [==============================] - 92s 9ms/step - loss: 145.0326\n",
      "Epoch 2/20\n",
      "10000/10000 [==============================] - 90s 9ms/step - loss: 85.8666\n",
      "Epoch 3/20\n",
      "10000/10000 [==============================] - 90s 9ms/step - loss: 67.3886\n",
      "Epoch 4/20\n",
      "10000/10000 [==============================] - 92s 9ms/step - loss: 50.9403\n",
      "Epoch 5/20\n",
      "10000/10000 [==============================] - 90s 9ms/step - loss: 43.9759\n",
      "Epoch 6/20\n",
      "10000/10000 [==============================] - 93s 9ms/step - loss: 37.6786\n",
      "Epoch 7/20\n",
      "10000/10000 [==============================] - 93s 9ms/step - loss: 36.4607\n",
      "Epoch 8/20\n",
      "10000/10000 [==============================] - 90s 9ms/step - loss: 34.8920\n",
      "Epoch 9/20\n",
      "10000/10000 [==============================] - 90s 9ms/step - loss: 34.6760\n",
      "Epoch 10/20\n",
      "10000/10000 [==============================] - 91s 9ms/step - loss: 34.8240\n",
      "Epoch 11/20\n",
      "10000/10000 [==============================] - 98s 10ms/step - loss: 32.9696\n",
      "Epoch 12/20\n",
      "10000/10000 [==============================] - 98s 10ms/step - loss: 31.4609\n",
      "Epoch 13/20\n",
      "10000/10000 [==============================] - 98s 10ms/step - loss: 30.8846\n",
      "Epoch 14/20\n",
      "10000/10000 [==============================] - 689s 69ms/step - loss: 31.1503\n",
      "Epoch 15/20\n",
      "10000/10000 [==============================] - 96s 10ms/step - loss: 30.5124\n",
      "Epoch 16/20\n",
      "10000/10000 [==============================] - 90s 9ms/step - loss: 30.3208\n",
      "Epoch 17/20\n",
      "10000/10000 [==============================] - 90s 9ms/step - loss: 29.9688\n",
      "Epoch 18/20\n",
      "10000/10000 [==============================] - 90s 9ms/step - loss: 27.5214\n",
      "Epoch 19/20\n",
      "10000/10000 [==============================] - 90s 9ms/step - loss: 28.4795\n",
      "Epoch 20/20\n",
      "10000/10000 [==============================] - 90s 9ms/step - loss: 28.2780\n"
     ]
    },
    {
     "data": {
      "image/png": "[encoded data removed]",
      "text/plain": [
       "<matplotlib.figure.Figure at 0x129a4ac18>"
      ]
     },
     "metadata": {},
     "output_type": "display_data"
    }
   ],
   "source": [
    "X_train,y_train,X_test,y_test=make_data()\n",
    "plt.imshow(X_train[0])\n",
    "print(X_train.shape)\n",
    "print(y_train[0])\n",
    "train(X_train,y_train)"
   ]
  },
  {
   "cell_type": "code",
   "execution_count": 13,
   "metadata": {},
   "outputs": [
    {
     "name": "stdout",
     "output_type": "stream",
     "text": [
      "Not trained\n"
     ]
    }
   ],
   "source": []
  },
  {
   "cell_type": "code",
   "execution_count": 14,
   "metadata": {},
   "outputs": [
    {
     "name": "stdout",
     "output_type": "stream",
     "text": [
      "None\n"
     ]
    }
   ],
   "source": []
  },
  {
   "cell_type": "code",
   "execution_count": null,
   "metadata": {
    "collapsed": true
   },
   "outputs": [],
   "source": []
  }
 ],
 "metadata": {
  "kernelspec": {
   "display_name": "Python 3",
   "language": "python",
   "name": "python3"
  },
  "language_info": {
   "codemirror_mode": {
    "name": "ipython",
    "version": 3
   },
   "file_extension": ".py",
   "mimetype": "text/x-python",
   "name": "python",
   "nbconvert_exporter": "python",
   "pygments_lexer": "ipython3",
   "version": "3.6.1"
  }
 },
 "nbformat": 4,
 "nbformat_minor": 2
}
